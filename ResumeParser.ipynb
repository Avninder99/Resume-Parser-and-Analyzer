{
  "nbformat": 4,
  "nbformat_minor": 0,
  "metadata": {
    "colab": {
      "provenance": [],
      "collapsed_sections": []
    },
    "kernelspec": {
      "name": "python3",
      "display_name": "Python 3"
    },
    "language_info": {
      "name": "python"
    }
  },
  "cells": [
    {
      "cell_type": "code",
      "source": [
        "'''\n",
        "1.  !pip install pyresparser\n",
        "\n",
        "2.  !pip install nltk\n",
        "\n",
        "3.  import nltk\n",
        "    nltk.download('stopwords')\n",
        "\n",
        "4.  !pip install python-docx\n",
        "\n",
        "5.  !pip install https://github.com/explosion/spacy-models/releases/download/en_core_web_sm-2.3.1/en_core_web_sm-2.3.1.tar.gz\n",
        "'''"
      ],
      "metadata": {
        "id": "Oa0NPUNPZMg8",
        "colab": {
          "base_uri": "https://localhost:8080/",
          "height": 53
        },
        "outputId": "d263c30e-5089-4ccc-99d5-a119dfaba7b2"
      },
      "execution_count": 5,
      "outputs": [
        {
          "output_type": "execute_result",
          "data": {
            "text/plain": [
              "\"\\n1.  !pip install pyresparser\\n\\n2.  !pip install nltk\\n\\n3.  import nltk\\n    nltk.download('stopwords')\\n\\n4.  !pip install python-docx\\n\\n5.  !pip install https://github.com/explosion/spacy-models/releases/download/en_core_web_sm-2.3.1/en_core_web_sm-2.3.1.tar.gz\\n\""
            ],
            "application/vnd.google.colaboratory.intrinsic+json": {
              "type": "string"
            }
          },
          "metadata": {},
          "execution_count": 5
        }
      ]
    },
    {
      "cell_type": "code",
      "execution_count": 6,
      "metadata": {
        "id": "GKKTlNyEgx_s"
      },
      "outputs": [],
      "source": [
        "from pyresparser import ResumeParser\n",
        "from docx import Document\n",
        "import os"
      ]
    },
    {
      "cell_type": "code",
      "source": [
        "filed = '/content/Resume.pdf'"
      ],
      "metadata": {
        "id": "MzH7ORQrjY1T"
      },
      "execution_count": 7,
      "outputs": []
    },
    {
      "cell_type": "code",
      "source": [
        "try:\n",
        "  doc = Document()\n",
        "  with open(filed, 'r') as file:\n",
        "    doc.add_paragraph(file.read())\n",
        "  doc.save('text.docx')\n",
        "  data = ResumeParser('text.docx').get_extracted_data()\n",
        "  print(data['skills'])\n",
        "except:\n",
        "  data = ResumeParser(filed).get_extracted_data()\n",
        "  print(data['skills'])"
      ],
      "metadata": {
        "colab": {
          "base_uri": "https://localhost:8080/"
        },
        "id": "xYdZ5DpzjvhB",
        "outputId": "0fb26fc5-6ffa-41b7-b953-160bfe925e62"
      },
      "execution_count": 8,
      "outputs": [
        {
          "output_type": "stream",
          "name": "stdout",
          "text": [
            "['Engineering', 'Computer science', 'Visual', 'Programming', 'Python', 'C', 'Machine learning', 'Sales', 'Training', 'English', 'Telecom', 'Sql']\n"
          ]
        }
      ]
    },
    {
      "cell_type": "code",
      "source": [
        "data"
      ],
      "metadata": {
        "colab": {
          "base_uri": "https://localhost:8080/"
        },
        "id": "AJ41uqcjkr6y",
        "outputId": "bdf046ba-e462-4efd-ebb0-c4cec3ad5a62"
      },
      "execution_count": 9,
      "outputs": [
        {
          "output_type": "execute_result",
          "data": {
            "text/plain": [
              "{'name': 'NISHU BANSAL',\n",
              " 'email': 'nishubansal381@gmail.com',\n",
              " 'mobile_number': '8146635527',\n",
              " 'skills': ['Engineering',\n",
              "  'Computer science',\n",
              "  'Visual',\n",
              "  'Programming',\n",
              "  'Python',\n",
              "  'C',\n",
              "  'Machine learning',\n",
              "  'Sales',\n",
              "  'Training',\n",
              "  'English',\n",
              "  'Telecom',\n",
              "  'Sql'],\n",
              " 'college_name': None,\n",
              " 'degree': ['Bachelor of Technology - BTech, Computer Science\\n& Engineering'],\n",
              " 'designation': None,\n",
              " 'experience': None,\n",
              " 'company_names': None,\n",
              " 'no_of_pages': 1,\n",
              " 'total_experience': 0}"
            ]
          },
          "metadata": {},
          "execution_count": 9
        }
      ]
    }
  ]
}